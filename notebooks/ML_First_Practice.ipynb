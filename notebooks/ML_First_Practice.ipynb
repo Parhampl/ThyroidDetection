{
 "cells": [
  {
   "attachments": {},
   "cell_type": "markdown",
   "id": "99a88744",
   "metadata": {},
   "source": [
    "## Import necessary libraries\n"
   ]
  },
  {
   "cell_type": "code",
   "execution_count": 60,
   "id": "a8ff6615",
   "metadata": {},
   "outputs": [],
   "source": [
    "#Parham Porkhial\n",
    "import pandas as pd\n",
    "import numpy as np\n",
    "import matplotlib.pyplot as plt\n",
    "\n",
    "\n"
   ]
  },
  {
   "attachments": {},
   "cell_type": "markdown",
   "id": "357ce2b3",
   "metadata": {},
   "source": [
    "## Load the dataset\n"
   ]
  },
  {
   "cell_type": "code",
   "execution_count": 73,
   "id": "d92df684",
   "metadata": {},
   "outputs": [
    {
     "name": "stdout",
     "output_type": "stream",
     "text": [
      "    Age  Sex  On Thyroxine  Query on Thyroxine  On Antithyroid Medication  \\\n",
      "0  0.73  0.0           1.0                 0.0                        0.0   \n",
      "1  0.24  0.0           0.0                 0.0                        0.0   \n",
      "2  0.47  0.0           0.0                 0.0                        0.0   \n",
      "3  0.64  1.0           0.0                 0.0                        0.0   \n",
      "4  0.23  0.0           0.0                 0.0                        0.0   \n",
      "\n",
      "   Sick  Pregnant  Thyroid Surgery  I131 Treatment  Query Hypothyroid  ...  \\\n",
      "0   0.0       0.0              0.0             1.0                0.0  ...   \n",
      "1   0.0       0.0              0.0             0.0                0.0  ...   \n",
      "2   0.0       0.0              0.0             0.0                0.0  ...   \n",
      "3   0.0       0.0              0.0             0.0                0.0  ...   \n",
      "4   0.0       0.0              0.0             0.0                0.0  ...   \n",
      "\n",
      "   Goiter  Tumor  Hypopituitary  Psych  Thyroid Stimulating Hormone (TSH)  \\\n",
      "0     0.0    0.0            0.0    0.0                            0.00060   \n",
      "1     0.0    0.0            0.0    0.0                            0.00025   \n",
      "2     0.0    0.0            0.0    0.0                            0.00190   \n",
      "3     0.0    0.0            0.0    0.0                            0.00090   \n",
      "4     0.0    0.0            0.0    0.0                            0.00025   \n",
      "\n",
      "   Triiodothyronine (T3)  Thyroid Transcription Factor (TT4)  \\\n",
      "0                  0.015                               0.120   \n",
      "1                  0.030                               0.143   \n",
      "2                  0.024                               0.102   \n",
      "3                  0.017                               0.077   \n",
      "4                  0.026                               0.139   \n",
      "\n",
      "   Thyroxine Utilization (T4U)  Free Thyroxine Index (FTI)  Thyroid Status  \n",
      "0                        0.082                       0.146             3.0  \n",
      "1                        0.133                       0.108             3.0  \n",
      "2                        0.131                       0.078             3.0  \n",
      "3                        0.090                       0.085             3.0  \n",
      "4                        0.090                       0.153             3.0  \n",
      "\n",
      "[5 rows x 22 columns]\n"
     ]
    }
   ],
   "source": [
    "dataset = pd.read_csv('ThyroidDetection.csv')\n",
    "\n",
    "print(dataset.head())\n"
   ]
  },
  {
   "attachments": {},
   "cell_type": "markdown",
   "id": "4b28c3f3",
   "metadata": {},
   "source": [
    "## Preprocessing\n"
   ]
  },
  {
   "cell_type": "code",
   "execution_count": 63,
   "id": "3751425c",
   "metadata": {},
   "outputs": [],
   "source": [
    "X = dataset.drop('Thyroid Status', axis=1)\n",
    "y = dataset['Thyroid Status']\n",
    "\n"
   ]
  },
  {
   "attachments": {},
   "cell_type": "markdown",
   "id": "2cae287a",
   "metadata": {},
   "source": [
    "## Convert non-numeric columns to numeric using Label Encoding\n"
   ]
  },
  {
   "cell_type": "code",
   "execution_count": 64,
   "id": "1bdb21b8",
   "metadata": {},
   "outputs": [],
   "source": [
    "\n",
    "from sklearn.preprocessing import LabelEncoder\n",
    "\n",
    "label_encoder = LabelEncoder()\n",
    "X_encoded = X.apply(label_encoder.fit_transform)\n",
    "\n"
   ]
  },
  {
   "attachments": {},
   "cell_type": "markdown",
   "id": "4b7de9ab",
   "metadata": {},
   "source": [
    "## Split the dataset into training and testing sets\n"
   ]
  },
  {
   "cell_type": "code",
   "execution_count": 65,
   "id": "ab3db856",
   "metadata": {},
   "outputs": [],
   "source": [
    "\n",
    "from sklearn.model_selection import train_test_split\n",
    "\n",
    "X_train, X_test, y_train, y_test = train_test_split(X_encoded, y, test_size=0.2, random_state=42)\n",
    "\n"
   ]
  },
  {
   "attachments": {},
   "cell_type": "markdown",
   "id": "3c125e1a",
   "metadata": {},
   "source": [
    "## Implementing RandomForest\n"
   ]
  },
  {
   "cell_type": "code",
   "execution_count": 66,
   "id": "767d11f4",
   "metadata": {},
   "outputs": [],
   "source": [
    "\n",
    "from sklearn.ensemble import RandomForestClassifier\n",
    "\n",
    "model = RandomForestClassifier(n_estimators=100, random_state=42)\n",
    "\n"
   ]
  },
  {
   "attachments": {},
   "cell_type": "markdown",
   "id": "17d8f797",
   "metadata": {},
   "source": [
    "## Train the model\n"
   ]
  },
  {
   "cell_type": "code",
   "execution_count": 67,
   "id": "ace8587f",
   "metadata": {},
   "outputs": [
    {
     "data": {
      "text/plain": [
       "RandomForestClassifier(random_state=42)"
      ]
     },
     "execution_count": 67,
     "metadata": {},
     "output_type": "execute_result"
    }
   ],
   "source": [
    "model.fit(X_train, y_train)\n",
    "\n"
   ]
  },
  {
   "attachments": {},
   "cell_type": "markdown",
   "id": "03a6d359",
   "metadata": {},
   "source": [
    "## Make predictions on the test set\n"
   ]
  },
  {
   "cell_type": "code",
   "execution_count": 68,
   "id": "ebc15b14",
   "metadata": {},
   "outputs": [],
   "source": [
    "y_pred = model.predict(X_test)\n",
    "\n"
   ]
  },
  {
   "attachments": {},
   "cell_type": "markdown",
   "id": "7231286d",
   "metadata": {},
   "source": [
    "## Evaluate the model\n"
   ]
  },
  {
   "cell_type": "code",
   "execution_count": 69,
   "id": "cbda29e1",
   "metadata": {},
   "outputs": [],
   "source": [
    "from sklearn.metrics import accuracy_score, classification_report\n",
    "\n",
    "accuracy = accuracy_score(y_test, y_pred)\n",
    "classification_report_dict = classification_report(y_test, y_pred, output_dict=True)\n"
   ]
  },
  {
   "attachments": {},
   "cell_type": "markdown",
   "id": "f5531037",
   "metadata": {},
   "source": [
    "## Print overall accuracy\n"
   ]
  },
  {
   "cell_type": "code",
   "execution_count": 70,
   "id": "334c2b3e",
   "metadata": {},
   "outputs": [
    {
     "name": "stdout",
     "output_type": "stream",
     "text": [
      "Overall Accuracy: 0.9986\n",
      "\n"
     ]
    }
   ],
   "source": [
    "print(f'Overall Accuracy: {accuracy:.4f}\\n')\n",
    "\n"
   ]
  },
  {
   "attachments": {},
   "cell_type": "markdown",
   "id": "6c4c05c2",
   "metadata": {},
   "source": [
    "## Print the results for each class\n"
   ]
  },
  {
   "cell_type": "code",
   "execution_count": 72,
   "id": "5b291cb2",
   "metadata": {},
   "outputs": [
    {
     "name": "stdout",
     "output_type": "stream",
     "text": [
      "Class 1:\n",
      "Precision: 1.0000\n",
      "Recall: 0.9583\n",
      "F1-Score: 0.9787\n",
      "Support: 24\n",
      "\n",
      "Class 2:\n",
      "Precision: 1.0000\n",
      "Recall: 0.9844\n",
      "F1-Score: 0.9921\n",
      "Support: 64\n",
      "\n",
      "Class 3:\n",
      "Precision: 0.9985\n",
      "Recall: 1.0000\n",
      "F1-Score: 0.9993\n",
      "Support: 1352\n",
      "\n"
     ]
    }
   ],
   "source": [
    "for class_label, metrics in classification_report_dict.items():\n",
    "    \n",
    "    if not any(char.isdigit() for char in class_label):\n",
    "        continue\n",
    "\n",
    "    class_index = int(float(class_label))\n",
    "    print(f\"Class {class_index}:\")\n",
    "    print(f\"Precision: {metrics['precision']:.4f}\")\n",
    "    print(f\"Recall: {metrics['recall']:.4f}\")  #(2*recall*percision)/(percission+recall)\n",
    "    print(f\"F1-Score: {metrics['f1-score']:.4f}\")\n",
    "    print(f\"Support: {metrics['support']}\")  #number of actual occurrences of the class in the dataset\n",
    "    print()\n"
   ]
  },
  {
   "cell_type": "code",
   "execution_count": 75,
   "id": "bc83bb30",
   "metadata": {},
   "outputs": [
    {
     "name": "stdout",
     "output_type": "stream",
     "text": [
      "Collecting pypandoc\n",
      "  Downloading pypandoc-1.12-py3-none-any.whl (20 kB)\n",
      "Installing collected packages: pypandoc\n",
      "Successfully installed pypandoc-1.12\n",
      "Note: you may need to restart the kernel to use updated packages.\n"
     ]
    }
   ],
   "source": [
    "pip install pypandoc\n"
   ]
  }
 ],
 "metadata": {
  "kernelspec": {
   "display_name": "Python 3 (ipykernel)",
   "language": "python",
   "name": "python3"
  },
  "language_info": {
   "codemirror_mode": {
    "name": "ipython",
    "version": 3
   },
   "file_extension": ".py",
   "mimetype": "text/x-python",
   "name": "python",
   "nbconvert_exporter": "python",
   "pygments_lexer": "ipython3",
   "version": "3.9.12"
  }
 },
 "nbformat": 4,
 "nbformat_minor": 5
}
